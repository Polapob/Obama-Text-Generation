{
  "nbformat": 4,
  "nbformat_minor": 0,
  "metadata": {
    "accelerator": "GPU",
    "colab": {
      "name": "text_generation.ipynb",
      "provenance": [],
      "collapsed_sections": [],
      "include_colab_link": true
    },
    "kernelspec": {
      "display_name": "Python 3",
      "name": "python3"
    }
  },
  "cells": [
    {
      "cell_type": "markdown",
      "metadata": {
        "id": "view-in-github",
        "colab_type": "text"
      },
      "source": [
        "<a href=\"https://colab.research.google.com/github/Polapob/Obama-Text-Generation/blob/main/Obama_text_generation.ipynb\" target=\"_parent\"><img src=\"https://colab.research.google.com/assets/colab-badge.svg\" alt=\"Open In Colab\"/></a>"
      ]
    },
    {
      "cell_type": "markdown",
      "metadata": {
        "id": "t09eeeR5prIJ"
      },
      "source": [
        "##### Copyright 2019 The TensorFlow Authors."
      ]
    },
    {
      "cell_type": "code",
      "metadata": {
        "cellView": "form",
        "id": "GCCk8_dHpuNf"
      },
      "source": [
        "#@title Licensed under the Apache License, Version 2.0 (the \"License\");\n",
        "# you may not use this file except in compliance with the License.\n",
        "# You may obtain a copy of the License at\n",
        "#\n",
        "# https://www.apache.org/licenses/LICENSE-2.0\n",
        "#\n",
        "# Unless required by applicable law or agreed to in writing, software\n",
        "# distributed under the License is distributed on an \"AS IS\" BASIS,\n",
        "# WITHOUT WARRANTIES OR CONDITIONS OF ANY KIND, either express or implied.\n",
        "# See the License for the specific language governing permissions and\n",
        "# limitations under the License."
      ],
      "execution_count": null,
      "outputs": []
    },
    {
      "cell_type": "markdown",
      "metadata": {
        "id": "ovpZyIhNIgoq"
      },
      "source": [
        "# Text generation with an RNN"
      ]
    },
    {
      "cell_type": "markdown",
      "metadata": {
        "id": "hcD2nPQvPOFM"
      },
      "source": [
        "<table class=\"tfo-notebook-buttons\" align=\"left\">\n",
        "  <td>\n",
        "    <a target=\"_blank\" href=\"https://www.tensorflow.org/tutorials/text/text_generation\"><img src=\"https://www.tensorflow.org/images/tf_logo_32px.png\" />View on TensorFlow.org</a>\n",
        "  </td>\n",
        "  <td>\n",
        "    <a target=\"_blank\" href=\"https://colab.research.google.com/github/tensorflow/docs/blob/master/site/en/tutorials/text/text_generation.ipynb\"><img src=\"https://www.tensorflow.org/images/colab_logo_32px.png\" />Run in Google Colab</a>\n",
        "  </td>\n",
        "  <td>\n",
        "    <a target=\"_blank\" href=\"https://github.com/tensorflow/docs/blob/master/site/en/tutorials/text/text_generation.ipynb\"><img src=\"https://www.tensorflow.org/images/GitHub-Mark-32px.png\" />View source on GitHub</a>\n",
        "  </td>\n",
        "  <td>\n",
        "    <a href=\"https://storage.googleapis.com/tensorflow_docs/docs/site/en/tutorials/text/text_generation.ipynb\"><img src=\"https://www.tensorflow.org/images/download_logo_32px.png\" />Download notebook</a>\n",
        "  </td>\n",
        "</table>"
      ]
    },
    {
      "cell_type": "markdown",
      "metadata": {
        "id": "_bGsCP9DZFQ5"
      },
      "source": [
        "While some of the sentences are grammatical, most do not make sense. The model has not learned the meaning of words, but consider:\n",
        "\n",
        "* The model is character-based. When training started, the model did not know how to spell an English word, or that words were even a unit of text.\n",
        "\n",
        "* The structure of the output resembles a play—blocks of text generally begin with a speaker name, in all capital letters similar to the dataset.\n",
        "\n",
        "* As demonstrated below, the model is trained on small batches of text (100 characters each), and is still able to generate a longer sequence of text with coherent structure."
      ]
    },
    {
      "cell_type": "markdown",
      "metadata": {
        "id": "srXC6pLGLwS6"
      },
      "source": [
        "## Setup"
      ]
    },
    {
      "cell_type": "markdown",
      "metadata": {
        "id": "WGyKZj3bzf9p"
      },
      "source": [
        "### Import TensorFlow and other libraries"
      ]
    },
    {
      "cell_type": "code",
      "metadata": {
        "id": "yG_n40gFzf9s"
      },
      "source": [
        "import tensorflow as tf\n",
        "from tensorflow.keras.layers.experimental import preprocessing\n",
        "\n",
        "import numpy as np\n",
        "import os\n",
        "import time"
      ],
      "execution_count": null,
      "outputs": []
    },
    {
      "cell_type": "markdown",
      "metadata": {
        "id": "EHDoRoc5PKWz"
      },
      "source": [
        "### Download the Obama dataset\n"
      ]
    },
    {
      "cell_type": "code",
      "metadata": {
        "colab": {
          "base_uri": "https://localhost:8080/"
        },
        "id": "HdT6fe47lGgX",
        "outputId": "cb9056ca-b2f9-489c-c84f-da23942469f7"
      },
      "source": [
        "!wget https://raw.githubusercontent.com/samim23/obama-rnn/master/input.txt"
      ],
      "execution_count": null,
      "outputs": [
        {
          "output_type": "stream",
          "text": [
            "--2021-01-11 03:55:02--  https://raw.githubusercontent.com/samim23/obama-rnn/master/input.txt\n",
            "Resolving raw.githubusercontent.com (raw.githubusercontent.com)... 151.101.0.133, 151.101.64.133, 151.101.128.133, ...\n",
            "Connecting to raw.githubusercontent.com (raw.githubusercontent.com)|151.101.0.133|:443... connected.\n",
            "HTTP request sent, awaiting response... 200 OK\n",
            "Length: 4250014 (4.1M) [text/plain]\n",
            "Saving to: ‘input.txt’\n",
            "\n",
            "input.txt           100%[===================>]   4.05M  --.-KB/s    in 0.05s   \n",
            "\n",
            "2021-01-11 03:55:02 (87.1 MB/s) - ‘input.txt’ saved [4250014/4250014]\n",
            "\n"
          ],
          "name": "stdout"
        }
      ]
    },
    {
      "cell_type": "code",
      "metadata": {
        "id": "pD_55cOxLkAb"
      },
      "source": [
        "path_to_file = \"input.txt\""
      ],
      "execution_count": null,
      "outputs": []
    },
    {
      "cell_type": "markdown",
      "metadata": {
        "id": "UHjdCjDuSvX_"
      },
      "source": [
        "### Read the data\n",
        "\n",
        "First, look in the text:"
      ]
    },
    {
      "cell_type": "code",
      "metadata": {
        "id": "aavnuByVymwK",
        "colab": {
          "base_uri": "https://localhost:8080/"
        },
        "outputId": "ef453e61-f724-4e2a-802c-71a5963b10d8"
      },
      "source": [
        "# Read, then decode for py2 compat.\n",
        "text = open(path_to_file, 'rb').read().decode(encoding='utf-8')\n",
        "# length of text is the number of characters in it\n",
        "print('Length of text: {} characters'.format(len(text)))"
      ],
      "execution_count": null,
      "outputs": [
        {
          "output_type": "stream",
          "text": [
            "Length of text: 4224143 characters\n"
          ],
          "name": "stdout"
        }
      ]
    },
    {
      "cell_type": "code",
      "metadata": {
        "id": "Duhg9NrUymwO",
        "colab": {
          "base_uri": "https://localhost:8080/"
        },
        "outputId": "f93d39e4-0f5d-4bf5-940b-093138bdce3b"
      },
      "source": [
        "# Take a look at the first 250 characters in text\n",
        "print(text[:250])"
      ],
      "execution_count": null,
      "outputs": [
        {
          "output_type": "stream",
          "text": [
            "To Chip, Kathy, and Nancy, who graciously shared your father with a nation that loved him; to Walter's friends, colleagues, protégés, and all who considered him a hero; to the men of the Intrepid; to all of you who are gathered here today; I am honor\n"
          ],
          "name": "stdout"
        }
      ]
    },
    {
      "cell_type": "code",
      "metadata": {
        "id": "IlCgQBRVymwR",
        "colab": {
          "base_uri": "https://localhost:8080/"
        },
        "outputId": "8cdc768e-7b41-4f4e-d9dd-67b9af54c76d"
      },
      "source": [
        "# The unique characters in the file\n",
        "vocab = sorted(set(text))\n",
        "print('{} unique characters'.format(len(vocab)))"
      ],
      "execution_count": null,
      "outputs": [
        {
          "output_type": "stream",
          "text": [
            "121 unique characters\n"
          ],
          "name": "stdout"
        }
      ]
    },
    {
      "cell_type": "markdown",
      "metadata": {
        "id": "rNnrKn_lL-IJ"
      },
      "source": [
        "## Process the text"
      ]
    },
    {
      "cell_type": "markdown",
      "metadata": {
        "id": "LFjSVAlWzf-N"
      },
      "source": [
        "### Vectorize the text\n",
        "\n",
        "Before training, you need to convert the strings to a numerical representation. \n",
        "\n",
        "The `preprocessing.StringLookup` layer can convert each character into a numeric ID. It just needs the text to be split into tokens first."
      ]
    },
    {
      "cell_type": "code",
      "metadata": {
        "colab": {
          "base_uri": "https://localhost:8080/"
        },
        "id": "e27aAnP4lkin",
        "outputId": "e2f72b87-1971-4d53-a02c-aaf7c69ad02a"
      },
      "source": [
        "chars = tf.strings.unicode_split(text[:50],input_encoding=\"UTF-8\")\n",
        "chars"
      ],
      "execution_count": null,
      "outputs": [
        {
          "output_type": "execute_result",
          "data": {
            "text/plain": [
              "<tf.Tensor: shape=(50,), dtype=string, numpy=\n",
              "array([b'T', b'o', b' ', b'C', b'h', b'i', b'p', b',', b' ', b'K', b'a',\n",
              "       b't', b'h', b'y', b',', b' ', b'a', b'n', b'd', b' ', b'N', b'a',\n",
              "       b'n', b'c', b'y', b',', b' ', b'w', b'h', b'o', b' ', b'g', b'r',\n",
              "       b'a', b'c', b'i', b'o', b'u', b's', b'l', b'y', b' ', b's', b'h',\n",
              "       b'a', b'r', b'e', b'd', b' ', b'y'], dtype=object)>"
            ]
          },
          "metadata": {
            "tags": []
          },
          "execution_count": 12
        }
      ]
    },
    {
      "cell_type": "markdown",
      "metadata": {
        "id": "1s4f1q3iqY8f"
      },
      "source": [
        "Now create the `preprocessing.StringLookup` layer:"
      ]
    },
    {
      "cell_type": "code",
      "metadata": {
        "id": "6GMlCe3qzaL9"
      },
      "source": [
        "ids_from_chars = preprocessing.StringLookup(\n",
        "    vocabulary=list(vocab))"
      ],
      "execution_count": null,
      "outputs": []
    },
    {
      "cell_type": "code",
      "metadata": {
        "id": "mPT-KUQh7Jo8"
      },
      "source": [
        "vocab2 = ids_from_chars.get_vocabulary()\n",
        "for i in vocab2:\n",
        "  print(i)"
      ],
      "execution_count": null,
      "outputs": []
    },
    {
      "cell_type": "markdown",
      "metadata": {
        "id": "ZmX_jbgQqfOi"
      },
      "source": [
        "It converts form tokens to character IDs, padding with `0`:"
      ]
    },
    {
      "cell_type": "code",
      "metadata": {
        "id": "WLv5Q_2TC2pc",
        "colab": {
          "base_uri": "https://localhost:8080/"
        },
        "outputId": "072ef1c7-a2bb-4cfd-97dd-16d9c0c6c0b9"
      },
      "source": [
        "ids = ids_from_chars(chars)\n",
        "ids"
      ],
      "execution_count": null,
      "outputs": [
        {
          "output_type": "execute_result",
          "data": {
            "text/plain": [
              "<tf.Tensor: shape=(50,), dtype=int64, numpy=\n",
              "array([52, 76,  3, 35, 69, 70, 77, 14,  3, 43, 62, 81, 69, 86, 14,  3, 62,\n",
              "       75, 65,  3, 46, 62, 75, 64, 86, 14,  3, 84, 69, 76,  3, 68, 79, 62,\n",
              "       64, 70, 76, 82, 80, 73, 86,  3, 80, 69, 62, 79, 66, 65,  3, 86])>"
            ]
          },
          "metadata": {
            "tags": []
          },
          "execution_count": 16
        }
      ]
    },
    {
      "cell_type": "markdown",
      "metadata": {
        "id": "tZfqhkYCymwX"
      },
      "source": [
        "Since the goal of this tutorial is to generate text, it will also be important to invert this representation and recover human-readable strings from it. For this you can use `preprocessing.StringLookup(..., invert=True)`.  "
      ]
    },
    {
      "cell_type": "markdown",
      "metadata": {
        "id": "uenivzwqsDhp"
      },
      "source": [
        "Note: Here instead of passing the original vocabulary generated with `sorted(set(text))` use the `get_vocabulary()` method of the `preprocessing.StringLookup` layer so that the padding and `[UNK]` tokens are set the same way."
      ]
    },
    {
      "cell_type": "code",
      "metadata": {
        "id": "Wd2m3mqkDjRj"
      },
      "source": [
        "chars_from_ids = tf.keras.layers.experimental.preprocessing.StringLookup(\n",
        "    vocabulary=ids_from_chars.get_vocabulary(), invert=True)"
      ],
      "execution_count": null,
      "outputs": []
    },
    {
      "cell_type": "markdown",
      "metadata": {
        "id": "pqTDDxS-s-H8"
      },
      "source": [
        "This layer recovers the characters from the vectors of IDs, and returns them as a `tf.RaggedTensor` of characters:"
      ]
    },
    {
      "cell_type": "code",
      "metadata": {
        "id": "c2GCh0ySD44s",
        "colab": {
          "base_uri": "https://localhost:8080/"
        },
        "outputId": "a143cecd-40b6-4512-a6ee-58d34a8653fa"
      },
      "source": [
        "chars = chars_from_ids(ids)\n",
        "chars"
      ],
      "execution_count": null,
      "outputs": [
        {
          "output_type": "execute_result",
          "data": {
            "text/plain": [
              "<tf.Tensor: shape=(50,), dtype=string, numpy=\n",
              "array([b'T', b'o', b' ', b'C', b'h', b'i', b'p', b',', b' ', b'K', b'a',\n",
              "       b't', b'h', b'y', b',', b' ', b'a', b'n', b'd', b' ', b'N', b'a',\n",
              "       b'n', b'c', b'y', b',', b' ', b'w', b'h', b'o', b' ', b'g', b'r',\n",
              "       b'a', b'c', b'i', b'o', b'u', b's', b'l', b'y', b' ', b's', b'h',\n",
              "       b'a', b'r', b'e', b'd', b' ', b'y'], dtype=object)>"
            ]
          },
          "metadata": {
            "tags": []
          },
          "execution_count": 19
        }
      ]
    },
    {
      "cell_type": "markdown",
      "metadata": {
        "id": "-FeW5gqutT3o"
      },
      "source": [
        "You can `tf.strings.reduce_join` to join the characters back into strings. "
      ]
    },
    {
      "cell_type": "code",
      "metadata": {
        "id": "zxYI-PeltqKP",
        "colab": {
          "base_uri": "https://localhost:8080/"
        },
        "outputId": "99fd8e6e-76ef-46ac-ad84-3abd20a2a670"
      },
      "source": [
        "tf.strings.reduce_join(chars, axis=-1).numpy()"
      ],
      "execution_count": null,
      "outputs": [
        {
          "output_type": "execute_result",
          "data": {
            "text/plain": [
              "b'To Chip, Kathy, and Nancy, who graciously shared y'"
            ]
          },
          "metadata": {
            "tags": []
          },
          "execution_count": 21
        }
      ]
    },
    {
      "cell_type": "code",
      "metadata": {
        "id": "w5apvBDn9Ind"
      },
      "source": [
        "def text_from_ids(ids):\n",
        "  return tf.strings.reduce_join(chars_from_ids(ids), axis=-1)"
      ],
      "execution_count": null,
      "outputs": []
    },
    {
      "cell_type": "markdown",
      "metadata": {
        "id": "bbmsf23Bymwe"
      },
      "source": [
        "### The prediction task"
      ]
    },
    {
      "cell_type": "markdown",
      "metadata": {
        "id": "wssHQ1oGymwe"
      },
      "source": [
        "Given a character, or a sequence of characters, what is the most probable next character? This is the task you're training the model to perform. The input to the model will be a sequence of characters, and you train the model to predict the output—the following character at each time step.\n",
        "\n",
        "Since RNNs maintain an internal state that depends on the previously seen elements, given all the characters computed until this moment, what is the next character?\n"
      ]
    },
    {
      "cell_type": "markdown",
      "metadata": {
        "id": "hgsVvVxnymwf"
      },
      "source": [
        "### Create training examples and targets\n",
        "\n",
        "Next divide the text into example sequences. Each input sequence will contain `seq_length` characters from the text.\n",
        "\n",
        "For each input sequence, the corresponding targets contain the same length of text, except shifted one character to the right.\n",
        "\n",
        "So break the text into chunks of `seq_length+1`. For example, say `seq_length` is 4 and our text is \"Hello\". The input sequence would be \"Hell\", and the target sequence \"ello\".\n",
        "\n",
        "To do this first use the `tf.data.Dataset.from_tensor_slices` function to convert the text vector into a stream of character indices."
      ]
    },
    {
      "cell_type": "code",
      "metadata": {
        "id": "UopbsKi88tm5",
        "colab": {
          "base_uri": "https://localhost:8080/"
        },
        "outputId": "a386d32c-8f6c-46e8-b506-7e5ba893cb22"
      },
      "source": [
        "all_ids = ids_from_chars(tf.strings.unicode_split(text, 'UTF-8'))\n",
        "all_ids"
      ],
      "execution_count": null,
      "outputs": [
        {
          "output_type": "execute_result",
          "data": {
            "text/plain": [
              "<tf.Tensor: shape=(4224143,), dtype=int64, numpy=array([52, 76,  3, ...,  2,  2,  2])>"
            ]
          },
          "metadata": {
            "tags": []
          },
          "execution_count": 23
        }
      ]
    },
    {
      "cell_type": "code",
      "metadata": {
        "id": "qmxrYDCTy-eL"
      },
      "source": [
        "ids_dataset = tf.data.Dataset.from_tensor_slices(all_ids)"
      ],
      "execution_count": null,
      "outputs": []
    },
    {
      "cell_type": "markdown",
      "metadata": {
        "id": "FLP6yB8xmgQ-"
      },
      "source": [
        "visualize each category"
      ]
    },
    {
      "cell_type": "code",
      "metadata": {
        "id": "cjH5v45-yqqH",
        "colab": {
          "base_uri": "https://localhost:8080/"
        },
        "outputId": "d686a6f8-bfe2-4aa5-ebb2-1e29f01bd352"
      },
      "source": [
        "for ids in ids_dataset.take(10):\n",
        "    print(chars_from_ids(ids).numpy().decode('utf-8'))"
      ],
      "execution_count": null,
      "outputs": [
        {
          "output_type": "stream",
          "text": [
            "T\n",
            "o\n",
            " \n",
            "C\n",
            "h\n",
            "i\n",
            "p\n",
            ",\n",
            " \n",
            "K\n"
          ],
          "name": "stdout"
        }
      ]
    },
    {
      "cell_type": "code",
      "metadata": {
        "id": "C-G2oaTxy6km"
      },
      "source": [
        "seq_length = 100\n",
        "examples_per_epoch = len(text)//(seq_length+1)"
      ],
      "execution_count": null,
      "outputs": []
    },
    {
      "cell_type": "markdown",
      "metadata": {
        "id": "-ZSYAcQV8OGP"
      },
      "source": [
        "The `batch` method lets you easily convert these individual characters to sequences of the desired size."
      ]
    },
    {
      "cell_type": "code",
      "metadata": {
        "id": "BpdjRO2CzOfZ",
        "colab": {
          "base_uri": "https://localhost:8080/"
        },
        "outputId": "50e30971-7da7-4b55-afc8-5dab2669ac90"
      },
      "source": [
        "sequences = ids_dataset.batch(seq_length+1, drop_remainder=True)\n",
        "count=1\n",
        "for seq in sequences.take(2):\n",
        "  print(\"Seq =\",count)\n",
        "  print()\n",
        "  print(chars_from_ids(seq))\n",
        "  print()\n",
        "  count +=1"
      ],
      "execution_count": null,
      "outputs": [
        {
          "output_type": "stream",
          "text": [
            "Seq = 1\n",
            "\n",
            "tf.Tensor(\n",
            "[b'T' b'o' b' ' b'C' b'h' b'i' b'p' b',' b' ' b'K' b'a' b't' b'h' b'y'\n",
            " b',' b' ' b'a' b'n' b'd' b' ' b'N' b'a' b'n' b'c' b'y' b',' b' ' b'w'\n",
            " b'h' b'o' b' ' b'g' b'r' b'a' b'c' b'i' b'o' b'u' b's' b'l' b'y' b' '\n",
            " b's' b'h' b'a' b'r' b'e' b'd' b' ' b'y' b'o' b'u' b'r' b' ' b'f' b'a'\n",
            " b't' b'h' b'e' b'r' b' ' b'w' b'i' b't' b'h' b' ' b'a' b' ' b'n' b'a'\n",
            " b't' b'i' b'o' b'n' b' ' b't' b'h' b'a' b't' b' ' b'l' b'o' b'v' b'e'\n",
            " b'd' b' ' b'h' b'i' b'm' b';' b' ' b't' b'o' b' ' b'W' b'a' b'l' b't'\n",
            " b'e' b'r' b\"'\"], shape=(101,), dtype=string)\n",
            "\n",
            "Seq = 2\n",
            "\n",
            "tf.Tensor(\n",
            "[b's' b' ' b'f' b'r' b'i' b'e' b'n' b'd' b's' b',' b' ' b'c' b'o' b'l'\n",
            " b'l' b'e' b'a' b'g' b'u' b'e' b's' b',' b' ' b'p' b'r' b'o' b't'\n",
            " b'\\xc3\\xa9' b'g' b'\\xc3\\xa9' b's' b',' b' ' b'a' b'n' b'd' b' ' b'a' b'l'\n",
            " b'l' b' ' b'w' b'h' b'o' b' ' b'c' b'o' b'n' b's' b'i' b'd' b'e' b'r'\n",
            " b'e' b'd' b' ' b'h' b'i' b'm' b' ' b'a' b' ' b'h' b'e' b'r' b'o' b';'\n",
            " b' ' b't' b'o' b' ' b't' b'h' b'e' b' ' b'm' b'e' b'n' b' ' b'o' b'f'\n",
            " b' ' b't' b'h' b'e' b' ' b'I' b'n' b't' b'r' b'e' b'p' b'i' b'd' b';'\n",
            " b' ' b't' b'o' b' ' b'a' b'l'], shape=(101,), dtype=string)\n",
            "\n"
          ],
          "name": "stdout"
        }
      ]
    },
    {
      "cell_type": "markdown",
      "metadata": {
        "id": "5PHW902-4oZt"
      },
      "source": [
        "It's easier to see what this is doing if you join the tokens back into strings:"
      ]
    },
    {
      "cell_type": "code",
      "metadata": {
        "id": "QO32cMWu4a06",
        "colab": {
          "base_uri": "https://localhost:8080/"
        },
        "outputId": "96424d53-27c9-47e6-ba4f-ec327046eb4f"
      },
      "source": [
        "for seq in sequences.take(5):\n",
        "  print(text_from_ids(seq).numpy())"
      ],
      "execution_count": null,
      "outputs": [
        {
          "output_type": "stream",
          "text": [
            "b\"To Chip, Kathy, and Nancy, who graciously shared your father with a nation that loved him; to Walter'\"\n",
            "b's friends, colleagues, prot\\xc3\\xa9g\\xc3\\xa9s, and all who considered him a hero; to the men of the Intrepid; to al'\n",
            "b'l of you who are gathered here today; I am honored to be here to pay tribute to the life and times of'\n",
            "b' the man who chronicled our time.\\n\\nI did not know Mr. Cronkite personally.  And my regret is made mor'\n",
            "b'e acute by the stories that have been shared here today. Nor, for that matter, did I know him any bet'\n"
          ],
          "name": "stdout"
        }
      ]
    },
    {
      "cell_type": "markdown",
      "metadata": {
        "id": "UbLcIPBj_mWZ"
      },
      "source": [
        "For training you'll need a dataset of `(input, label)` pairs. Where `input` and \n",
        "`label` are sequences. At each time step the input is the current character and the label is the next character. \n",
        "\n",
        "Here's a function that takes a sequence as input, duplicates, and shifts it to align the input and label for each timestep:"
      ]
    },
    {
      "cell_type": "code",
      "metadata": {
        "id": "9NGu-FkO_kYU"
      },
      "source": [
        "def split_input_target(sequence):\n",
        "    input_text = sequence[:-1]\n",
        "    target_text = sequence[1:]\n",
        "    return input_text, target_text"
      ],
      "execution_count": null,
      "outputs": []
    },
    {
      "cell_type": "code",
      "metadata": {
        "id": "WxbDTJTw5u_P",
        "colab": {
          "base_uri": "https://localhost:8080/"
        },
        "outputId": "7f1442fa-4334-4d65-cef4-49d6b020a306"
      },
      "source": [
        "split_input_target(list(\"Tensorflow\"))"
      ],
      "execution_count": null,
      "outputs": [
        {
          "output_type": "execute_result",
          "data": {
            "text/plain": [
              "(['T', 'e', 'n', 's', 'o', 'r', 'f', 'l', 'o'],\n",
              " ['e', 'n', 's', 'o', 'r', 'f', 'l', 'o', 'w'])"
            ]
          },
          "metadata": {
            "tags": []
          },
          "execution_count": 35
        }
      ]
    },
    {
      "cell_type": "code",
      "metadata": {
        "id": "B9iKPXkw5xwa",
        "colab": {
          "base_uri": "https://localhost:8080/"
        },
        "outputId": "87d4a7c2-c3b8-44a7-f5bf-45fc77144cd9"
      },
      "source": [
        "dataset = sequences.map(split_input_target)"
      ],
      "execution_count": null,
      "outputs": [
        {
          "output_type": "execute_result",
          "data": {
            "text/plain": [
              "<MapDataset shapes: ((100,), (100,)), types: (tf.int64, tf.int64)>"
            ]
          },
          "metadata": {
            "tags": []
          },
          "execution_count": 37
        }
      ]
    },
    {
      "cell_type": "markdown",
      "metadata": {
        "id": "89kaN87_nBdE"
      },
      "source": [
        "Visualize some dataset."
      ]
    },
    {
      "cell_type": "code",
      "metadata": {
        "id": "GNbw-iR0ymwj",
        "colab": {
          "base_uri": "https://localhost:8080/"
        },
        "outputId": "016b5714-c8b9-4769-ba8a-2fb57add2f70"
      },
      "source": [
        "for input_example, target_example in  dataset.take(3):\n",
        "    print(\"Input :\", text_from_ids(input_example).numpy())\n",
        "    print(\"Target:\", text_from_ids(target_example).numpy())\n",
        "    print()"
      ],
      "execution_count": null,
      "outputs": [
        {
          "output_type": "stream",
          "text": [
            "Input : b'To Chip, Kathy, and Nancy, who graciously shared your father with a nation that loved him; to Walter'\n",
            "Target: b\"o Chip, Kathy, and Nancy, who graciously shared your father with a nation that loved him; to Walter'\"\n",
            "\n",
            "Input : b's friends, colleagues, prot\\xc3\\xa9g\\xc3\\xa9s, and all who considered him a hero; to the men of the Intrepid; to a'\n",
            "Target: b' friends, colleagues, prot\\xc3\\xa9g\\xc3\\xa9s, and all who considered him a hero; to the men of the Intrepid; to al'\n",
            "\n",
            "Input : b'l of you who are gathered here today; I am honored to be here to pay tribute to the life and times o'\n",
            "Target: b' of you who are gathered here today; I am honored to be here to pay tribute to the life and times of'\n",
            "\n"
          ],
          "name": "stdout"
        }
      ]
    },
    {
      "cell_type": "markdown",
      "metadata": {
        "id": "MJdfPmdqzf-R"
      },
      "source": [
        "### Create training batches\n",
        "\n",
        "You used `tf.data` to split the text into manageable sequences. But before feeding this data into the model, you need to shuffle the data and pack it into batches."
      ]
    },
    {
      "cell_type": "code",
      "metadata": {
        "id": "p2pGotuNzf-S",
        "colab": {
          "base_uri": "https://localhost:8080/"
        },
        "outputId": "c6a49c89-ad8f-40ab-b3a4-425bed557141"
      },
      "source": [
        "# Batch size\n",
        "BATCH_SIZE = 128\n",
        "\n",
        "# Buffer size to shuffle the dataset\n",
        "# (TF data is designed to work with possibly infinite sequences,\n",
        "# so it doesn't attempt to shuffle the entire sequence in memory. Instead,\n",
        "# it maintains a buffer in which it shuffles elements).\n",
        "BUFFER_SIZE = 10000\n",
        "\n",
        "dataset = (\n",
        "    dataset\n",
        "    .shuffle(BUFFER_SIZE)\n",
        "    .batch(BATCH_SIZE, drop_remainder=True)\n",
        "    .prefetch(tf.data.experimental.AUTOTUNE))\n",
        "\n",
        "dataset"
      ],
      "execution_count": null,
      "outputs": [
        {
          "output_type": "execute_result",
          "data": {
            "text/plain": [
              "<PrefetchDataset shapes: ((128, 100), (128, 100)), types: (tf.int64, tf.int64)>"
            ]
          },
          "metadata": {
            "tags": []
          },
          "execution_count": 41
        }
      ]
    },
    {
      "cell_type": "markdown",
      "metadata": {
        "id": "r6oUuElIMgVx"
      },
      "source": [
        "## Build The Model"
      ]
    },
    {
      "cell_type": "markdown",
      "metadata": {
        "id": "m8gPwEjRzf-Z"
      },
      "source": [
        "This section defines the model as a `keras.Model` subclass \n",
        "This model has three layers:\n",
        "\n",
        "* `tf.keras.layers.Embedding`: The input layer. A trainable lookup table that will map each character-ID to a vector with `embedding_dim` dimensions;\n",
        "* `tf.keras.layers.GRU`: A type of RNN with size `units=rnn_units` (You can also use an LSTM layer here.)\n",
        "* `tf.keras.layers.Dense`: The output layer, with `vocab_size` outputs. It outpts one logit for each character in the vocabulary. These are the log-liklihood of each character according to the model."
      ]
    },
    {
      "cell_type": "code",
      "metadata": {
        "id": "zHT8cLh7EAsg"
      },
      "source": [
        "# Length of the vocabulary in chars\n",
        "vocab_size = len(vocab)\n",
        "\n",
        "# The embedding dimension\n",
        "embedding_dim = 256\n",
        "\n",
        "# Number of RNN units\n",
        "rnn_units = 1024"
      ],
      "execution_count": null,
      "outputs": []
    },
    {
      "cell_type": "code",
      "metadata": {
        "id": "VUGuwLvHzSM1"
      },
      "source": [
        ""
      ],
      "execution_count": null,
      "outputs": []
    },
    {
      "cell_type": "code",
      "metadata": {
        "id": "wj8HQ2w8z4iO"
      },
      "source": [
        "class MyModel(tf.keras.Model):\n",
        "  def __init__(self, vocab_size, embedding_dim, rnn_units):\n",
        "    super().__init__(self)\n",
        "    self.embedding = tf.keras.layers.Embedding(vocab_size, embedding_dim)\n",
        "    self.gru = tf.keras.layers.GRU(rnn_units,\n",
        "                                   return_sequences=True, \n",
        "                                   return_state=True,dropout=0.2)\n",
        "    \"\"\"self.gru2 = tf.keras.layers.GRU(rnn_units,\n",
        "                                   return_sequences=True, \n",
        "                                   return_state=True,dropout=0.2)\n",
        "    self.gru3 = tf.keras.layers.GRU(rnn_units,\n",
        "                                   return_sequences=True, \n",
        "                                   return_state=True,dropout=0.2)\"\"\"\n",
        "    self.dense = tf.keras.layers.Dense(vocab_size)\n",
        "\n",
        "  def call(self, inputs, states=None, return_state=False, training=False):\n",
        "    x = inputs\n",
        "    x = self.embedding(x, training=training)\n",
        "    if states is None:\n",
        "      states = self.gru.get_initial_state(x)\n",
        "    x, states = self.gru(x, initial_state=states, training=training)\n",
        "    #x, states = self.gru2(x, initial_state=states, training=training)\n",
        "    #x,states = self.gru3(x,initial_state = states,training=training)\n",
        "    x = self.dense(x, training=training)\n",
        "\n",
        "    if return_state:\n",
        "      return x, states\n",
        "    else: \n",
        "      return x"
      ],
      "execution_count": null,
      "outputs": []
    },
    {
      "cell_type": "code",
      "metadata": {
        "id": "IX58Xj9z47Aw"
      },
      "source": [
        "model = MyModel(\n",
        "    # Be sure the vocabulary size matches the `StringLookup` layers.\n",
        "    vocab_size=len(ids_from_chars.get_vocabulary()),\n",
        "    embedding_dim=embedding_dim,\n",
        "    rnn_units=rnn_units)"
      ],
      "execution_count": null,
      "outputs": []
    },
    {
      "cell_type": "markdown",
      "metadata": {
        "id": "gKbfm04amhXk"
      },
      "source": [
        "Note: For training you could use a `keras.Sequential` model here. To  generate text later you'll need to manage the RNN's internal state. It's simpler to include the state input and output options upfront, than it is to rearrange the model architecture later. For more details asee the [Keras RNN guide](https://www.tensorflow.org/guide/keras/rnn#rnn_state_reuse)."
      ]
    },
    {
      "cell_type": "markdown",
      "metadata": {
        "id": "-ubPo0_9Prjb"
      },
      "source": [
        "## Try the model\n",
        "\n",
        "Now run the model to see that it behaves as expected.\n",
        "\n",
        "First check the shape of the output:"
      ]
    },
    {
      "cell_type": "code",
      "metadata": {
        "id": "C-_70kKAPrPU",
        "colab": {
          "base_uri": "https://localhost:8080/"
        },
        "outputId": "afcbeb21-5109-4af6-cda6-dce7c92be497"
      },
      "source": [
        "for input_example_batch, target_example_batch in dataset.take(1):\n",
        "    example_batch_predictions = model(input_example_batch)\n",
        "    print(example_batch_predictions.shape, \"# (batch_size, sequence_length, vocab_size)\")"
      ],
      "execution_count": null,
      "outputs": [
        {
          "output_type": "stream",
          "text": [
            "(128, 100, 123) # (batch_size, sequence_length, vocab_size)\n"
          ],
          "name": "stdout"
        }
      ]
    },
    {
      "cell_type": "markdown",
      "metadata": {
        "id": "Q6NzLBi4VM4o"
      },
      "source": [
        "In the above example the sequence length of the input is `100` but the model can be run on inputs of any length:"
      ]
    },
    {
      "cell_type": "code",
      "metadata": {
        "id": "vPGmAAXmVLGC",
        "colab": {
          "base_uri": "https://localhost:8080/"
        },
        "outputId": "406b87fe-2ec6-4a7f-ecff-d49aee90e246"
      },
      "source": [
        "model.summary()"
      ],
      "execution_count": null,
      "outputs": [
        {
          "output_type": "stream",
          "text": [
            "Model: \"my_model_17\"\n",
            "_________________________________________________________________\n",
            "Layer (type)                 Output Shape              Param #   \n",
            "=================================================================\n",
            "embedding_17 (Embedding)     multiple                  31488     \n",
            "_________________________________________________________________\n",
            "gru_18 (GRU)                 multiple                  3938304   \n",
            "_________________________________________________________________\n",
            "dense_14 (Dense)             multiple                  126075    \n",
            "=================================================================\n",
            "Total params: 4,095,867\n",
            "Trainable params: 4,095,867\n",
            "Non-trainable params: 0\n",
            "_________________________________________________________________\n"
          ],
          "name": "stdout"
        }
      ]
    },
    {
      "cell_type": "markdown",
      "metadata": {
        "id": "uwv0gEkURfx1"
      },
      "source": [
        "To get actual predictions from the model you need to sample from the output distribution, to get actual character indices. This distribution is defined by the logits over the character vocabulary.\n",
        "\n",
        "Note: It is important to _sample_ from this distribution as taking the _argmax_ of the distribution can easily get the model stuck in a loop.\n",
        "\n",
        "Try it for the first example in the batch:"
      ]
    },
    {
      "cell_type": "code",
      "metadata": {
        "id": "4V4MfFg0RQJg"
      },
      "source": [
        "sampled_indices = tf.random.categorical(example_batch_predictions[0], num_samples=1)\n",
        "sampled_indices = tf.squeeze(sampled_indices,axis=-1).numpy()"
      ],
      "execution_count": null,
      "outputs": []
    },
    {
      "cell_type": "markdown",
      "metadata": {
        "id": "QM1Vbxs_URw5"
      },
      "source": [
        "This gives us, at each timestep, a prediction of the next character index:"
      ]
    },
    {
      "cell_type": "code",
      "metadata": {
        "id": "YqFMUQc_UFgM",
        "colab": {
          "base_uri": "https://localhost:8080/"
        },
        "outputId": "4c0795b1-b61e-4f84-e2f5-807c6ac59ba2"
      },
      "source": [
        "sampled_indices"
      ],
      "execution_count": null,
      "outputs": [
        {
          "output_type": "execute_result",
          "data": {
            "text/plain": [
              "array([ 53, 117,  54,  47,  43,  74,  54,  63, 108, 115, 101,  38,  69,\n",
              "        96,  14,  41,  82,  18,  44, 111,  50, 108,  25,  48,  65,  69,\n",
              "        71,  99, 121, 103,  16, 104,  16, 108,  65,   2,  40, 114,  51,\n",
              "        54,  66,  88,  45,  92, 118, 116,  37,  60,  97,  74,   3,  17,\n",
              "        11,  34,  93, 119,  78, 120,  41,  80,   2,  30,  48,  37,  37,\n",
              "        78, 117, 106,  96,  13,  29,   5, 119,  96,  71, 112,  22,  37,\n",
              "        98,  77, 102,  11,  50,  48, 115,  46,  96, 109, 104,  70,  39,\n",
              "         7,   5,  65, 103,  36, 114,  39,   9,  96])"
            ]
          },
          "metadata": {
            "tags": []
          },
          "execution_count": 129
        }
      ]
    },
    {
      "cell_type": "markdown",
      "metadata": {
        "id": "LfLtsP3mUhCG"
      },
      "source": [
        "Decode these to see the text predicted by this untrained model:"
      ]
    },
    {
      "cell_type": "code",
      "metadata": {
        "id": "xWcFwPwLSo05",
        "colab": {
          "base_uri": "https://localhost:8080/"
        },
        "outputId": "f27c4ddb-2877-454d-ceae-d7fd331becfa"
      },
      "source": [
        "print(\"Input:\\n\", text_from_ids(input_example_batch[0]).numpy())\n",
        "print()\n",
        "print(\"Next Char Predictions:\\n\", text_from_ids(sampled_indices).numpy())"
      ],
      "execution_count": null,
      "outputs": [
        {
          "output_type": "stream",
          "text": [
            "Input:\n",
            " b' -- let there be no doubt: Islam is a part of America. And I believe that America holds within her t'\n",
            "\n",
            "Next Char Predictions:\n",
            " b'U\\xe2\\x80\\x94VOKmVb\\xd6\\xb9\\xd7\\xaa\\xc3\\xb3Fh\\xc3\\xa8,Iu0L\\xd7\\x93R\\xd6\\xb97Pdhj\\xc3\\xaf\\xe2\\x80\\x9d\\xc4\\x85.\\xc4\\x99.\\xd6\\xb9d\\nH\\xd7\\xa8SVe\\xc2\\x92M\\xc3\\x93\\xe2\\x80\\x98\\xe2\\x80\\x93E]\\xc3\\xa9m /)B\\xc3\\xa0\\xe2\\x80\\x99q\\xe2\\x80\\x9cIs\\n<PEEq\\xe2\\x80\\x94\\xd6\\xb7\\xc3\\xa8+;\"\\xe2\\x80\\x99\\xc3\\xa8j\\xd7\\x944E\\xc3\\xadp\\xc3\\xb4)RP\\xd7\\xaaN\\xc3\\xa8\\xd6\\xbc\\xc4\\x99iG%\"d\\xc4\\x85D\\xd7\\xa8G\\'\\xc3\\xa8'\n"
          ],
          "name": "stdout"
        }
      ]
    },
    {
      "cell_type": "markdown",
      "metadata": {
        "id": "LJL0Q0YPY6Ee"
      },
      "source": [
        "## Train the model"
      ]
    },
    {
      "cell_type": "markdown",
      "metadata": {
        "id": "YCbHQHiaa4Ic"
      },
      "source": [
        "At this point the problem can be treated as a standard classification problem. Given the previous RNN state, and the input this time step, predict the class of the next character."
      ]
    },
    {
      "cell_type": "markdown",
      "metadata": {
        "id": "trpqTWyvk0nr"
      },
      "source": [
        "### Attach an optimizer, and a loss function"
      ]
    },
    {
      "cell_type": "markdown",
      "metadata": {
        "id": "UAjbjY03eiQ4"
      },
      "source": [
        "The standard `tf.keras.losses.sparse_categorical_crossentropy` loss function works in this case because it is applied across the last dimension of the predictions.\n",
        "\n",
        "Because your model returns logits, you need to set the `from_logits` flag.\n"
      ]
    },
    {
      "cell_type": "code",
      "metadata": {
        "id": "ZOeWdgxNFDXq"
      },
      "source": [
        "loss = tf.losses.SparseCategoricalCrossentropy(from_logits=True)"
      ],
      "execution_count": null,
      "outputs": []
    },
    {
      "cell_type": "code",
      "metadata": {
        "id": "4HrXTACTdzY-",
        "colab": {
          "base_uri": "https://localhost:8080/"
        },
        "outputId": "da68d8b7-e246-4f78-ef1a-0d7723620d83"
      },
      "source": [
        "example_batch_loss = loss(target_example_batch, example_batch_predictions)\n",
        "mean_loss = example_batch_loss.numpy().mean()\n",
        "print(\"Prediction shape: \", example_batch_predictions.shape, \" # (batch_size, sequence_length, vocab_size)\")\n",
        "print(\"Mean loss:        \", mean_loss)"
      ],
      "execution_count": null,
      "outputs": [
        {
          "output_type": "stream",
          "text": [
            "Prediction shape:  (128, 100, 123)  # (batch_size, sequence_length, vocab_size)\n",
            "Mean loss:         4.8129063\n"
          ],
          "name": "stdout"
        }
      ]
    },
    {
      "cell_type": "markdown",
      "metadata": {
        "id": "vkvUIneTFiow"
      },
      "source": [
        "A newly initialized model shouldn't be too sure of itself, the output logits should all have similar magnitudes. To confirm this you can check that the exponential of the mean loss is approximately equal to the vocabulary size. A much higher loss means the model is sure of its wrong answers, and is badly initialized:"
      ]
    },
    {
      "cell_type": "code",
      "metadata": {
        "id": "MAJfS5YoFiHf",
        "colab": {
          "base_uri": "https://localhost:8080/"
        },
        "outputId": "2b2bdd61-e40d-4701-b13e-bf4e5d5915b5"
      },
      "source": [
        "tf.exp(mean_loss).numpy()"
      ],
      "execution_count": null,
      "outputs": [
        {
          "output_type": "execute_result",
          "data": {
            "text/plain": [
              "123.08883"
            ]
          },
          "metadata": {
            "tags": []
          },
          "execution_count": 133
        }
      ]
    },
    {
      "cell_type": "markdown",
      "metadata": {
        "id": "jeOXriLcymww"
      },
      "source": [
        "Configure the training procedure using the `tf.keras.Model.compile` method. Use `tf.keras.optimizers.Adam` with default arguments and the loss function."
      ]
    },
    {
      "cell_type": "code",
      "metadata": {
        "id": "DDl1_Een6rL0"
      },
      "source": [
        "model.compile(optimizer='adam', loss=loss,metrics=[\"acc\"])"
      ],
      "execution_count": null,
      "outputs": []
    },
    {
      "cell_type": "markdown",
      "metadata": {
        "id": "ieSJdchZggUj"
      },
      "source": [
        "### Configure checkpoints"
      ]
    },
    {
      "cell_type": "markdown",
      "metadata": {
        "id": "C6XBUUavgF56"
      },
      "source": [
        "Use a `tf.keras.callbacks.ModelCheckpoint` to ensure that checkpoints are saved during training:"
      ]
    },
    {
      "cell_type": "code",
      "metadata": {
        "id": "W6fWTriUZP-n"
      },
      "source": [
        "# Directory where the checkpoints will be saved\n",
        "checkpoint_dir = './training_checkpoints3'\n",
        "# Name of the checkpoint files\n",
        "checkpoint_prefix = os.path.join(checkpoint_dir, \"ckpt_{epoch}\")\n",
        "\n",
        "checkpoint_callback = tf.keras.callbacks.ModelCheckpoint(\n",
        "    filepath=checkpoint_prefix,\n",
        "    save_weights_only=True)"
      ],
      "execution_count": null,
      "outputs": []
    },
    {
      "cell_type": "markdown",
      "metadata": {
        "id": "3Ky3F_BhgkTW"
      },
      "source": [
        "### Execute the training"
      ]
    },
    {
      "cell_type": "markdown",
      "metadata": {
        "id": "IxdOA-rgyGvs"
      },
      "source": [
        "To keep training time reasonable, use 10 epochs to train the model. In Colab, set the runtime to GPU for faster training."
      ]
    },
    {
      "cell_type": "code",
      "metadata": {
        "id": "7yGBE2zxMMHs"
      },
      "source": [
        "EPOCHS = 100"
      ],
      "execution_count": null,
      "outputs": []
    },
    {
      "cell_type": "code",
      "metadata": {
        "id": "UK-hmKjYVoll",
        "colab": {
          "base_uri": "https://localhost:8080/",
          "height": 1000
        },
        "outputId": "c1032e90-0c1a-47e6-bb61-aa41f99fa3c9"
      },
      "source": [
        "history = model.fit(dataset, epochs=EPOCHS, callbacks=[checkpoint_callback])"
      ],
      "execution_count": null,
      "outputs": [
        {
          "output_type": "stream",
          "text": [
            "Epoch 1/100\n",
            "326/326 [==============================] - 37s 108ms/step - loss: 2.9256 - acc: 0.2633\n",
            "Epoch 2/100\n",
            "326/326 [==============================] - 36s 108ms/step - loss: 1.6318 - acc: 0.5210\n",
            "Epoch 3/100\n",
            "326/326 [==============================] - 36s 108ms/step - loss: 1.2971 - acc: 0.6131\n",
            "Epoch 4/100\n",
            "326/326 [==============================] - 37s 110ms/step - loss: 1.1866 - acc: 0.6415\n",
            "Epoch 5/100\n",
            "326/326 [==============================] - 36s 109ms/step - loss: 1.1276 - acc: 0.6571\n",
            "Epoch 6/100\n",
            "326/326 [==============================] - 37s 110ms/step - loss: 1.0871 - acc: 0.6677\n",
            "Epoch 7/100\n",
            "326/326 [==============================] - 36s 109ms/step - loss: 1.0570 - acc: 0.6759\n",
            "Epoch 8/100\n",
            "326/326 [==============================] - 36s 108ms/step - loss: 1.0295 - acc: 0.6830\n",
            "Epoch 9/100\n",
            "326/326 [==============================] - 36s 108ms/step - loss: 1.0063 - acc: 0.6892\n",
            "Epoch 10/100\n",
            "326/326 [==============================] - 37s 109ms/step - loss: 0.9858 - acc: 0.6949\n",
            "Epoch 11/100\n",
            "326/326 [==============================] - 37s 110ms/step - loss: 0.9680 - acc: 0.6994\n",
            "Epoch 12/100\n",
            "326/326 [==============================] - 37s 109ms/step - loss: 0.9503 - acc: 0.7046\n",
            "Epoch 13/100\n",
            "326/326 [==============================] - 37s 110ms/step - loss: 0.9343 - acc: 0.7087\n",
            "Epoch 14/100\n",
            "326/326 [==============================] - 37s 109ms/step - loss: 0.9199 - acc: 0.7127\n",
            "Epoch 15/100\n",
            "326/326 [==============================] - 36s 108ms/step - loss: 0.9057 - acc: 0.7171\n",
            "Epoch 16/100\n",
            "326/326 [==============================] - 36s 108ms/step - loss: 0.8940 - acc: 0.7197\n",
            "Epoch 17/100\n",
            "326/326 [==============================] - 36s 109ms/step - loss: 0.8819 - acc: 0.7236\n",
            "Epoch 18/100\n",
            "326/326 [==============================] - 37s 109ms/step - loss: 0.8718 - acc: 0.7261\n",
            "Epoch 19/100\n",
            "326/326 [==============================] - 37s 109ms/step - loss: 0.8620 - acc: 0.7289\n",
            "Epoch 20/100\n",
            "326/326 [==============================] - 37s 110ms/step - loss: 0.8516 - acc: 0.7319\n",
            "Epoch 21/100\n",
            "326/326 [==============================] - 37s 109ms/step - loss: 0.8460 - acc: 0.7332\n",
            "Epoch 22/100\n",
            "326/326 [==============================] - 36s 108ms/step - loss: 0.8399 - acc: 0.7346\n",
            "Epoch 23/100\n",
            "326/326 [==============================] - 36s 108ms/step - loss: 0.8343 - acc: 0.7364\n",
            "Epoch 24/100\n",
            "326/326 [==============================] - 36s 109ms/step - loss: 0.8278 - acc: 0.7382\n",
            "Epoch 25/100\n",
            "326/326 [==============================] - 37s 109ms/step - loss: 0.8241 - acc: 0.7388\n",
            "Epoch 26/100\n",
            "326/326 [==============================] - 37s 109ms/step - loss: 0.8202 - acc: 0.7398\n",
            "Epoch 27/100\n",
            "326/326 [==============================] - 37s 110ms/step - loss: 0.8161 - acc: 0.7407\n",
            "Epoch 28/100\n",
            "326/326 [==============================] - 37s 109ms/step - loss: 0.8130 - acc: 0.7419\n",
            "Epoch 29/100\n",
            "326/326 [==============================] - 36s 108ms/step - loss: 0.8092 - acc: 0.7427\n",
            "Epoch 30/100\n",
            "326/326 [==============================] - 36s 108ms/step - loss: 0.8072 - acc: 0.7433\n",
            "Epoch 31/100\n",
            "326/326 [==============================] - 37s 109ms/step - loss: 0.8047 - acc: 0.7438\n",
            "Epoch 32/100\n",
            "326/326 [==============================] - 37s 109ms/step - loss: 0.8045 - acc: 0.7438\n",
            "Epoch 33/100\n",
            "326/326 [==============================] - 37s 109ms/step - loss: 0.8013 - acc: 0.7444\n",
            "Epoch 34/100\n",
            "326/326 [==============================] - 37s 110ms/step - loss: 0.8012 - acc: 0.7443\n",
            "Epoch 35/100\n",
            "326/326 [==============================] - 36s 109ms/step - loss: 0.7986 - acc: 0.7456\n",
            "Epoch 36/100\n",
            "326/326 [==============================] - 36s 108ms/step - loss: 0.7991 - acc: 0.7449\n",
            "Epoch 37/100\n",
            "326/326 [==============================] - 36s 108ms/step - loss: 0.7987 - acc: 0.7449\n",
            "Epoch 38/100\n",
            "326/326 [==============================] - 36s 109ms/step - loss: 0.7985 - acc: 0.7452\n",
            "Epoch 39/100\n",
            "326/326 [==============================] - 37s 109ms/step - loss: 0.7976 - acc: 0.7451\n",
            "Epoch 40/100\n",
            "326/326 [==============================] - 37s 109ms/step - loss: 0.7977 - acc: 0.7451\n",
            "Epoch 41/100\n",
            "326/326 [==============================] - 37s 110ms/step - loss: 0.7979 - acc: 0.7451\n",
            "Epoch 42/100\n",
            "326/326 [==============================] - 36s 109ms/step - loss: 0.7975 - acc: 0.7448\n",
            "Epoch 43/100\n",
            "326/326 [==============================] - 36s 108ms/step - loss: 0.7977 - acc: 0.7449\n",
            "Epoch 44/100\n",
            "326/326 [==============================] - 36s 108ms/step - loss: 0.7996 - acc: 0.7444\n",
            "Epoch 45/100\n"
          ],
          "name": "stdout"
        },
        {
          "output_type": "error",
          "ename": "KeyboardInterrupt",
          "evalue": "ignored",
          "traceback": [
            "\u001b[0;31m---------------------------------------------------------------------------\u001b[0m",
            "\u001b[0;31mKeyboardInterrupt\u001b[0m                         Traceback (most recent call last)",
            "\u001b[0;32m<ipython-input-137-25e345c13e8b>\u001b[0m in \u001b[0;36m<module>\u001b[0;34m()\u001b[0m\n\u001b[0;32m----> 1\u001b[0;31m \u001b[0mhistory\u001b[0m \u001b[0;34m=\u001b[0m \u001b[0mmodel\u001b[0m\u001b[0;34m.\u001b[0m\u001b[0mfit\u001b[0m\u001b[0;34m(\u001b[0m\u001b[0mdataset\u001b[0m\u001b[0;34m,\u001b[0m \u001b[0mepochs\u001b[0m\u001b[0;34m=\u001b[0m\u001b[0mEPOCHS\u001b[0m\u001b[0;34m,\u001b[0m \u001b[0mcallbacks\u001b[0m\u001b[0;34m=\u001b[0m\u001b[0;34m[\u001b[0m\u001b[0mcheckpoint_callback\u001b[0m\u001b[0;34m]\u001b[0m\u001b[0;34m)\u001b[0m\u001b[0;34m\u001b[0m\u001b[0;34m\u001b[0m\u001b[0m\n\u001b[0m",
            "\u001b[0;32m/usr/local/lib/python3.6/dist-packages/tensorflow/python/keras/engine/training.py\u001b[0m in \u001b[0;36mfit\u001b[0;34m(self, x, y, batch_size, epochs, verbose, callbacks, validation_split, validation_data, shuffle, class_weight, sample_weight, initial_epoch, steps_per_epoch, validation_steps, validation_batch_size, validation_freq, max_queue_size, workers, use_multiprocessing)\u001b[0m\n\u001b[1;32m   1098\u001b[0m                 _r=1):\n\u001b[1;32m   1099\u001b[0m               \u001b[0mcallbacks\u001b[0m\u001b[0;34m.\u001b[0m\u001b[0mon_train_batch_begin\u001b[0m\u001b[0;34m(\u001b[0m\u001b[0mstep\u001b[0m\u001b[0;34m)\u001b[0m\u001b[0;34m\u001b[0m\u001b[0;34m\u001b[0m\u001b[0m\n\u001b[0;32m-> 1100\u001b[0;31m               \u001b[0mtmp_logs\u001b[0m \u001b[0;34m=\u001b[0m \u001b[0mself\u001b[0m\u001b[0;34m.\u001b[0m\u001b[0mtrain_function\u001b[0m\u001b[0;34m(\u001b[0m\u001b[0miterator\u001b[0m\u001b[0;34m)\u001b[0m\u001b[0;34m\u001b[0m\u001b[0;34m\u001b[0m\u001b[0m\n\u001b[0m\u001b[1;32m   1101\u001b[0m               \u001b[0;32mif\u001b[0m \u001b[0mdata_handler\u001b[0m\u001b[0;34m.\u001b[0m\u001b[0mshould_sync\u001b[0m\u001b[0;34m:\u001b[0m\u001b[0;34m\u001b[0m\u001b[0;34m\u001b[0m\u001b[0m\n\u001b[1;32m   1102\u001b[0m                 \u001b[0mcontext\u001b[0m\u001b[0;34m.\u001b[0m\u001b[0masync_wait\u001b[0m\u001b[0;34m(\u001b[0m\u001b[0;34m)\u001b[0m\u001b[0;34m\u001b[0m\u001b[0;34m\u001b[0m\u001b[0m\n",
            "\u001b[0;32m/usr/local/lib/python3.6/dist-packages/tensorflow/python/eager/def_function.py\u001b[0m in \u001b[0;36m__call__\u001b[0;34m(self, *args, **kwds)\u001b[0m\n\u001b[1;32m    826\u001b[0m     \u001b[0mtracing_count\u001b[0m \u001b[0;34m=\u001b[0m \u001b[0mself\u001b[0m\u001b[0;34m.\u001b[0m\u001b[0mexperimental_get_tracing_count\u001b[0m\u001b[0;34m(\u001b[0m\u001b[0;34m)\u001b[0m\u001b[0;34m\u001b[0m\u001b[0;34m\u001b[0m\u001b[0m\n\u001b[1;32m    827\u001b[0m     \u001b[0;32mwith\u001b[0m \u001b[0mtrace\u001b[0m\u001b[0;34m.\u001b[0m\u001b[0mTrace\u001b[0m\u001b[0;34m(\u001b[0m\u001b[0mself\u001b[0m\u001b[0;34m.\u001b[0m\u001b[0m_name\u001b[0m\u001b[0;34m)\u001b[0m \u001b[0;32mas\u001b[0m \u001b[0mtm\u001b[0m\u001b[0;34m:\u001b[0m\u001b[0;34m\u001b[0m\u001b[0;34m\u001b[0m\u001b[0m\n\u001b[0;32m--> 828\u001b[0;31m       \u001b[0mresult\u001b[0m \u001b[0;34m=\u001b[0m \u001b[0mself\u001b[0m\u001b[0;34m.\u001b[0m\u001b[0m_call\u001b[0m\u001b[0;34m(\u001b[0m\u001b[0;34m*\u001b[0m\u001b[0margs\u001b[0m\u001b[0;34m,\u001b[0m \u001b[0;34m**\u001b[0m\u001b[0mkwds\u001b[0m\u001b[0;34m)\u001b[0m\u001b[0;34m\u001b[0m\u001b[0;34m\u001b[0m\u001b[0m\n\u001b[0m\u001b[1;32m    829\u001b[0m       \u001b[0mcompiler\u001b[0m \u001b[0;34m=\u001b[0m \u001b[0;34m\"xla\"\u001b[0m \u001b[0;32mif\u001b[0m \u001b[0mself\u001b[0m\u001b[0;34m.\u001b[0m\u001b[0m_experimental_compile\u001b[0m \u001b[0;32melse\u001b[0m \u001b[0;34m\"nonXla\"\u001b[0m\u001b[0;34m\u001b[0m\u001b[0;34m\u001b[0m\u001b[0m\n\u001b[1;32m    830\u001b[0m       \u001b[0mnew_tracing_count\u001b[0m \u001b[0;34m=\u001b[0m \u001b[0mself\u001b[0m\u001b[0;34m.\u001b[0m\u001b[0mexperimental_get_tracing_count\u001b[0m\u001b[0;34m(\u001b[0m\u001b[0;34m)\u001b[0m\u001b[0;34m\u001b[0m\u001b[0;34m\u001b[0m\u001b[0m\n",
            "\u001b[0;32m/usr/local/lib/python3.6/dist-packages/tensorflow/python/eager/def_function.py\u001b[0m in \u001b[0;36m_call\u001b[0;34m(self, *args, **kwds)\u001b[0m\n\u001b[1;32m    853\u001b[0m       \u001b[0;31m# In this case we have created variables on the first call, so we run the\u001b[0m\u001b[0;34m\u001b[0m\u001b[0;34m\u001b[0m\u001b[0;34m\u001b[0m\u001b[0m\n\u001b[1;32m    854\u001b[0m       \u001b[0;31m# defunned version which is guaranteed to never create variables.\u001b[0m\u001b[0;34m\u001b[0m\u001b[0;34m\u001b[0m\u001b[0;34m\u001b[0m\u001b[0m\n\u001b[0;32m--> 855\u001b[0;31m       \u001b[0;32mreturn\u001b[0m \u001b[0mself\u001b[0m\u001b[0;34m.\u001b[0m\u001b[0m_stateless_fn\u001b[0m\u001b[0;34m(\u001b[0m\u001b[0;34m*\u001b[0m\u001b[0margs\u001b[0m\u001b[0;34m,\u001b[0m \u001b[0;34m**\u001b[0m\u001b[0mkwds\u001b[0m\u001b[0;34m)\u001b[0m  \u001b[0;31m# pylint: disable=not-callable\u001b[0m\u001b[0;34m\u001b[0m\u001b[0;34m\u001b[0m\u001b[0m\n\u001b[0m\u001b[1;32m    856\u001b[0m     \u001b[0;32melif\u001b[0m \u001b[0mself\u001b[0m\u001b[0;34m.\u001b[0m\u001b[0m_stateful_fn\u001b[0m \u001b[0;32mis\u001b[0m \u001b[0;32mnot\u001b[0m \u001b[0;32mNone\u001b[0m\u001b[0;34m:\u001b[0m\u001b[0;34m\u001b[0m\u001b[0;34m\u001b[0m\u001b[0m\n\u001b[1;32m    857\u001b[0m       \u001b[0;31m# Release the lock early so that multiple threads can perform the call\u001b[0m\u001b[0;34m\u001b[0m\u001b[0;34m\u001b[0m\u001b[0;34m\u001b[0m\u001b[0m\n",
            "\u001b[0;32m/usr/local/lib/python3.6/dist-packages/tensorflow/python/eager/function.py\u001b[0m in \u001b[0;36m__call__\u001b[0;34m(self, *args, **kwargs)\u001b[0m\n\u001b[1;32m   2941\u001b[0m        filtered_flat_args) = self._maybe_define_function(args, kwargs)\n\u001b[1;32m   2942\u001b[0m     return graph_function._call_flat(\n\u001b[0;32m-> 2943\u001b[0;31m         filtered_flat_args, captured_inputs=graph_function.captured_inputs)  # pylint: disable=protected-access\n\u001b[0m\u001b[1;32m   2944\u001b[0m \u001b[0;34m\u001b[0m\u001b[0m\n\u001b[1;32m   2945\u001b[0m   \u001b[0;34m@\u001b[0m\u001b[0mproperty\u001b[0m\u001b[0;34m\u001b[0m\u001b[0;34m\u001b[0m\u001b[0m\n",
            "\u001b[0;32m/usr/local/lib/python3.6/dist-packages/tensorflow/python/eager/function.py\u001b[0m in \u001b[0;36m_call_flat\u001b[0;34m(self, args, captured_inputs, cancellation_manager)\u001b[0m\n\u001b[1;32m   1917\u001b[0m       \u001b[0;31m# No tape is watching; skip to running the function.\u001b[0m\u001b[0;34m\u001b[0m\u001b[0;34m\u001b[0m\u001b[0;34m\u001b[0m\u001b[0m\n\u001b[1;32m   1918\u001b[0m       return self._build_call_outputs(self._inference_function.call(\n\u001b[0;32m-> 1919\u001b[0;31m           ctx, args, cancellation_manager=cancellation_manager))\n\u001b[0m\u001b[1;32m   1920\u001b[0m     forward_backward = self._select_forward_and_backward_functions(\n\u001b[1;32m   1921\u001b[0m         \u001b[0margs\u001b[0m\u001b[0;34m,\u001b[0m\u001b[0;34m\u001b[0m\u001b[0;34m\u001b[0m\u001b[0m\n",
            "\u001b[0;32m/usr/local/lib/python3.6/dist-packages/tensorflow/python/eager/function.py\u001b[0m in \u001b[0;36mcall\u001b[0;34m(self, ctx, args, cancellation_manager)\u001b[0m\n\u001b[1;32m    558\u001b[0m               \u001b[0minputs\u001b[0m\u001b[0;34m=\u001b[0m\u001b[0margs\u001b[0m\u001b[0;34m,\u001b[0m\u001b[0;34m\u001b[0m\u001b[0;34m\u001b[0m\u001b[0m\n\u001b[1;32m    559\u001b[0m               \u001b[0mattrs\u001b[0m\u001b[0;34m=\u001b[0m\u001b[0mattrs\u001b[0m\u001b[0;34m,\u001b[0m\u001b[0;34m\u001b[0m\u001b[0;34m\u001b[0m\u001b[0m\n\u001b[0;32m--> 560\u001b[0;31m               ctx=ctx)\n\u001b[0m\u001b[1;32m    561\u001b[0m         \u001b[0;32melse\u001b[0m\u001b[0;34m:\u001b[0m\u001b[0;34m\u001b[0m\u001b[0;34m\u001b[0m\u001b[0m\n\u001b[1;32m    562\u001b[0m           outputs = execute.execute_with_cancellation(\n",
            "\u001b[0;32m/usr/local/lib/python3.6/dist-packages/tensorflow/python/eager/execute.py\u001b[0m in \u001b[0;36mquick_execute\u001b[0;34m(op_name, num_outputs, inputs, attrs, ctx, name)\u001b[0m\n\u001b[1;32m     58\u001b[0m     \u001b[0mctx\u001b[0m\u001b[0;34m.\u001b[0m\u001b[0mensure_initialized\u001b[0m\u001b[0;34m(\u001b[0m\u001b[0;34m)\u001b[0m\u001b[0;34m\u001b[0m\u001b[0;34m\u001b[0m\u001b[0m\n\u001b[1;32m     59\u001b[0m     tensors = pywrap_tfe.TFE_Py_Execute(ctx._handle, device_name, op_name,\n\u001b[0;32m---> 60\u001b[0;31m                                         inputs, attrs, num_outputs)\n\u001b[0m\u001b[1;32m     61\u001b[0m   \u001b[0;32mexcept\u001b[0m \u001b[0mcore\u001b[0m\u001b[0;34m.\u001b[0m\u001b[0m_NotOkStatusException\u001b[0m \u001b[0;32mas\u001b[0m \u001b[0me\u001b[0m\u001b[0;34m:\u001b[0m\u001b[0;34m\u001b[0m\u001b[0;34m\u001b[0m\u001b[0m\n\u001b[1;32m     62\u001b[0m     \u001b[0;32mif\u001b[0m \u001b[0mname\u001b[0m \u001b[0;32mis\u001b[0m \u001b[0;32mnot\u001b[0m \u001b[0;32mNone\u001b[0m\u001b[0;34m:\u001b[0m\u001b[0;34m\u001b[0m\u001b[0;34m\u001b[0m\u001b[0m\n",
            "\u001b[0;31mKeyboardInterrupt\u001b[0m: "
          ]
        }
      ]
    },
    {
      "cell_type": "markdown",
      "metadata": {
        "id": "kKkD5M6eoSiN"
      },
      "source": [
        "## Generate text"
      ]
    },
    {
      "cell_type": "markdown",
      "metadata": {
        "id": "oIdQ8c8NvMzV"
      },
      "source": [
        "The simplest way to generate text with this model is to run it in a loop, and keep track of the model's internal state as you execute it.\n",
        "\n",
        "![To generate text the model's output is fed back to the input](https://github.com/tensorflow/docs/blob/master/site/en/tutorials/text/images/text_generation_sampling.png?raw=1)\n",
        "\n",
        "Each time you call the model you pass in some text and an internal state. The model returns a prediction for the next character and its new state. Pass the prediction and state back in to continue generating text.\n"
      ]
    },
    {
      "cell_type": "markdown",
      "metadata": {
        "id": "DjGz1tDkzf-u"
      },
      "source": [
        "The following makes a single step prediction:"
      ]
    },
    {
      "cell_type": "code",
      "metadata": {
        "id": "iSBU1tHmlUSs"
      },
      "source": [
        "class OneStep(tf.keras.Model):\n",
        "  def __init__(self, model, chars_from_ids, ids_from_chars, temperature=1.0):\n",
        "    super().__init__()\n",
        "    self.temperature=temperature\n",
        "    self.model = model\n",
        "    self.chars_from_ids = chars_from_ids\n",
        "    self.ids_from_chars = ids_from_chars\n",
        "\n",
        "    # Create a mask to prevent \"\" or \"[UNK]\" from being generated.\n",
        "    skip_ids = self.ids_from_chars(['','[UNK]'])[:, None]\n",
        "    sparse_mask = tf.SparseTensor(\n",
        "        # Put a -inf at each bad index.\n",
        "        values=[-float('inf')]*len(skip_ids),\n",
        "        indices = skip_ids,\n",
        "        # Match the shape to the vocabulary\n",
        "        dense_shape=[len(ids_from_chars.get_vocabulary())]) \n",
        "    self.prediction_mask = tf.sparse.to_dense(sparse_mask)\n",
        "\n",
        "  @tf.function\n",
        "  def generate_one_step(self, inputs, states=None):\n",
        "    # Convert strings to token IDs.\n",
        "    input_chars = tf.strings.unicode_split(inputs, 'UTF-8')\n",
        "    input_ids = self.ids_from_chars(input_chars).to_tensor()\n",
        "\n",
        "    # Run the model.\n",
        "    # predicted_logits.shape is [batch, char, next_char_logits] \n",
        "    predicted_logits, states =  self.model(inputs=input_ids, states=states, \n",
        "                                          return_state=True)\n",
        "    # Only use the last prediction.\n",
        "    predicted_logits = predicted_logits[:, -1, :]\n",
        "    predicted_logits = predicted_logits/self.temperature\n",
        "    # Apply the prediction mask: prevent \"\" or \"[UNK]\" from being generated.\n",
        "    predicted_logits = predicted_logits + self.prediction_mask\n",
        "\n",
        "    # Sample the output logits to generate token IDs.\n",
        "    predicted_ids = tf.random.categorical(predicted_logits, num_samples=1)\n",
        "    predicted_ids = tf.squeeze(predicted_ids, axis=-1)\n",
        "    \n",
        "    # Convert from token ids to characters\n",
        "    predicted_chars = self.chars_from_ids(predicted_ids)\n",
        "\n",
        "    # Return the characters and model state.\n",
        "    return predicted_chars, states"
      ],
      "execution_count": null,
      "outputs": []
    },
    {
      "cell_type": "code",
      "metadata": {
        "id": "fqMOuDutnOxK"
      },
      "source": [
        "one_step_model = OneStep(model, chars_from_ids, ids_from_chars)"
      ],
      "execution_count": null,
      "outputs": []
    },
    {
      "cell_type": "markdown",
      "metadata": {
        "id": "p9yDoa0G3IgQ"
      },
      "source": [
        "Run it in a loop to generate some text. Looking at the generated text, you'll see the model knows when to capitalize, make paragraphs and imitates a Shakespeare-like writing vocabulary. With the small number of training epochs, it has not yet learned to form coherent sentences."
      ]
    },
    {
      "cell_type": "code",
      "metadata": {
        "id": "ST7PSyk9t1mT",
        "colab": {
          "base_uri": "https://localhost:8080/"
        },
        "outputId": "1aa225fb-ca0d-4120-d182-b94a56230ea6"
      },
      "source": [
        "start = time.time()\n",
        "states = None\n",
        "next_char = tf.constant(['War'])\n",
        "result = [next_char]\n",
        "\n",
        "for n in range(1000):\n",
        "  next_char, states = one_step_model.generate_one_step(next_char, states=states)\n",
        "  result.append(next_char)\n",
        "\n",
        "result = tf.strings.join(result)\n",
        "end = time.time()\n",
        "\n",
        "print(result[0].numpy().decode('utf-8'), '\\n\\n' + '_'*80)\n",
        "\n",
        "print(f\"\\nRun time: {end - start}\")"
      ],
      "execution_count": null,
      "outputs": [
        {
          "output_type": "stream",
          "text": [
            "Wars be a shrinking, kid’al expensive As an unity, and that's the break to hangs -- single Summit of the old border.  America wants a reasonable on the need for curbed instead of support that often outlined that force alone will be living it on to the stockpiles.\n",
            "\n",
            "Nothing say that I worry that the United States has inspired by the new rules that the Department of Defense, the Space Shuttles on Wall Street was tool when I support defenders of the Internet, the Uncondition that we did not know when we support generosity and judgment reform. \n",
            "\n",
            "The one nations do not support more than 600 quality, and defeat up their faith and our cars.  In the meantime, we’re going to show that all new insurance seen on Congress over worry that every American still includes some traditional resolved.  A belief in mass shooting, and helping Americans’ greater efforts that will lead direct the Dusad Captain sanctions on Wall Street in courts and resolve as they did the up.  The freedom of excessionary spent up \n",
            "\n",
            "________________________________________________________________________________\n",
            "\n",
            "Run time: 2.7848291397094727\n"
          ],
          "name": "stdout"
        }
      ]
    },
    {
      "cell_type": "markdown",
      "metadata": {
        "id": "AM2Uma_-yVIq"
      },
      "source": [
        "The easiest thing you can do to improve the results is to train it for longer (try `EPOCHS = 30`).\n",
        "\n",
        "You can also experiment with a different start string, try adding another RNN layer to improve the model's accuracy, or adjust the temperature parameter to generate more or less random predictions."
      ]
    },
    {
      "cell_type": "markdown",
      "metadata": {
        "id": "_OfbI4aULmuj"
      },
      "source": [
        "If you want the model to generate text *faster* the easiest thing you can do is batch the text generation. In the example below the model generates 5 outputs in about the same time it took to generate 1 above. "
      ]
    },
    {
      "cell_type": "code",
      "metadata": {
        "id": "ZkLu7Y8UCMT7",
        "colab": {
          "base_uri": "https://localhost:8080/"
        },
        "outputId": "d5483e29-7798-46a4-f469-6a0ab0d9c56a"
      },
      "source": [
        "start = time.time()\n",
        "states = None\n",
        "next_char = tf.constant([\"Charles\"])\n",
        "result = [next_char]\n",
        "\n",
        "for n in range(1000):\n",
        "  next_char, states = one_step_model.generate_one_step(next_char, states=states)\n",
        "  result.append(next_char)\n",
        "\n",
        "result = tf.strings.join(result)\n",
        "end = time.time()\n",
        "\n",
        "print(result, '\\n\\n' + '_'*80)\n",
        "\n",
        "\n",
        "print(f\"\\nRun time: {end - start}\")"
      ],
      "execution_count": null,
      "outputs": [
        {
          "output_type": "stream",
          "text": [
            "tf.Tensor([b\"Charlest.\\n \\nThere are going to be on the office to our veterans?.\\n\\nPRescurr Goxd Forth, who are someing the lessons of justice and the crisis earlier, the cost of the Bayor and Central Iraqi Set, strikes his part, Fort Concord was gun or dirently, upside shared responsibility in America at -- and we working together in the Israeli people do really, an issue mading their rights because of our lives, and acknowledge that is say, international forums, more complete our destiny illegal issues, sometimes severely pursue at an America that has successfully reducing manifest for its foolists do -- still build -- a promise If America and our adversaries succeeded. And this won't happen your out construction; those days are over.  Bet a basically sign idsna Band in your tax dollars at that time, Colorado \\xe2\\x80\\x93 Assad\\xe2\\x80\\x99s campaign stands; that our common humanity, and hold further devastating climate changes, more affordable for four of our people.  And we finally getted a solement, with the Red States of Ame\"], shape=(1,), dtype=string) \n",
            "\n",
            "________________________________________________________________________________\n",
            "\n",
            "Run time: 2.147634506225586\n"
          ],
          "name": "stdout"
        }
      ]
    },
    {
      "cell_type": "markdown",
      "metadata": {
        "id": "UlUQzwu6EXam"
      },
      "source": [
        "## Export the generator\n",
        "\n",
        "This single-step model can easily be [saved and restored](https://www.tensorflow.org/guide/saved_model), allowing you to use it anywhere a `tf.saved_model` is accepted."
      ]
    },
    {
      "cell_type": "code",
      "metadata": {
        "id": "3Grk32H_CzsC",
        "colab": {
          "base_uri": "https://localhost:8080/"
        },
        "outputId": "a9a8333b-3a40-45bf-8850-3174696d06df"
      },
      "source": [
        "tf.saved_model.save(one_step_model, 'one_step')\n",
        "one_step_reloaded = tf.saved_model.load('one_step')"
      ],
      "execution_count": null,
      "outputs": [
        {
          "output_type": "stream",
          "text": [
            "WARNING:tensorflow:Skipping full serialization of Keras layer <__main__.OneStep object at 0x7faaec51af98>, because it is not built.\n"
          ],
          "name": "stdout"
        },
        {
          "output_type": "stream",
          "text": [
            "WARNING:absl:Found untraced functions such as gru_cell_18_layer_call_fn, gru_cell_18_layer_call_and_return_conditional_losses, gru_cell_18_layer_call_fn, gru_cell_18_layer_call_and_return_conditional_losses, gru_cell_18_layer_call_and_return_conditional_losses while saving (showing 5 of 5). These functions will not be directly callable after loading.\n",
            "WARNING:absl:Found untraced functions such as gru_cell_18_layer_call_fn, gru_cell_18_layer_call_and_return_conditional_losses, gru_cell_18_layer_call_fn, gru_cell_18_layer_call_and_return_conditional_losses, gru_cell_18_layer_call_and_return_conditional_losses while saving (showing 5 of 5). These functions will not be directly callable after loading.\n"
          ],
          "name": "stderr"
        },
        {
          "output_type": "stream",
          "text": [
            "INFO:tensorflow:Assets written to: one_step/assets\n"
          ],
          "name": "stdout"
        },
        {
          "output_type": "stream",
          "text": [
            "INFO:tensorflow:Assets written to: one_step/assets\n"
          ],
          "name": "stderr"
        }
      ]
    },
    {
      "cell_type": "code",
      "metadata": {
        "id": "_Z9bb_wX6Uuu",
        "colab": {
          "base_uri": "https://localhost:8080/"
        },
        "outputId": "ffa97719-8ddd-468a-a6b6-ea5e5c71605a"
      },
      "source": [
        "states = None\n",
        "next_char = tf.constant([\"Obama\"])\n",
        "result = [next_char]\n",
        "\n",
        "for n in range(1000):\n",
        "  next_char, states = one_step_reloaded.generate_one_step(next_char, states=states)\n",
        "  result.append(next_char)\n",
        "\n",
        "print(tf.strings.join(result)[0].numpy().decode(\"utf-8\"))"
      ],
      "execution_count": null,
      "outputs": [
        {
          "output_type": "stream",
          "text": [
            "Obama.  That’s what we need does.\n",
            "\n",
            "So when Rioseas Highway Assad, Saral,Ery Jack Andost insurance companies, freedo known-goodness.”\n",
            "\n",
            "So tonight I’d like to talk about hope.  I still find my SEcretary of France to find them -- maybe things like we, the child of Morehouse, Lionwai used a course-coundy half by saying Hoor and more than a cared me then he thought, and the most important issue for our military you can.  And so I want to thank Gir talk to no around the world, I’ve been created networks -- to keep investing in the Senate.  Now is the time for them to reduce the deficit.  But I know some in recent death before us believes that getting some know -- or if the young people look like.  That’s who we made our brothert.\n",
            "\n",
            "Those still looks alongs if we don’t think two pretucals?  More you lifted building faster lots, only if we don’t give up on them for their own.  And it's way.  I have a hardfronted fire and bear in him, row.  When a child can expand our choices in our girls, and countr\n"
          ],
          "name": "stdout"
        }
      ]
    },
    {
      "cell_type": "markdown",
      "metadata": {
        "id": "Y4QwTjAM6A2O"
      },
      "source": [
        "## Advanced: Customized Training\n",
        "\n",
        "The above training procedure is simple, but does not give you much control.\n",
        "It uses teacher-forcing which prevents bad predictions from being fed back to the model so the model never learns to recover from mistakes.\n",
        "\n",
        "So now that you've seen how to run the model manually next you'll implement the training loop. This gives a starting point if, for example, you want to implement _curriculum  learning_ to help stabilize the model's open-loop output.\n",
        "\n",
        "The most important part of a custom training loop is the train step function.\n",
        "\n",
        "Use `tf.GradientTape` to track the gradients. You can learn more about this approach by reading the [eager execution guide](https://www.tensorflow.org/guide/eager).\n",
        "\n",
        "The basic procedure is:\n",
        "\n",
        "1. Execute the model and calculate the loss under a `tf.GradientTape`.\n",
        "2. Calculate the updates and apply them to the model using the optimizer."
      ]
    },
    {
      "cell_type": "code",
      "metadata": {
        "id": "x0pZ101hjwW0"
      },
      "source": [
        "class CustomTraining(MyModel):\n",
        "  @tf.function\n",
        "  def train_step(self, inputs):\n",
        "      inputs, labels = inputs\n",
        "      with tf.GradientTape() as tape:\n",
        "          predictions = self(inputs, training=True)\n",
        "          loss = self.loss(labels, predictions)\n",
        "      grads = tape.gradient(loss, model.trainable_variables)\n",
        "      self.optimizer.apply_gradients(zip(grads, model.trainable_variables))\n",
        "\n",
        "      return {'loss': loss}"
      ],
      "execution_count": null,
      "outputs": []
    },
    {
      "cell_type": "markdown",
      "metadata": {
        "id": "4Oc-eJALcK8B"
      },
      "source": [
        "The above implementation of the `train_step` method follows [Keras' `train_step` conventions](https://www.tensorflow.org/guide/keras/customizing_what_happens_in_fit). This is optional, but it allows you to change the behavior of the train step and still use keras' `Model.compile` and `Model.fit` methods."
      ]
    },
    {
      "cell_type": "code",
      "metadata": {
        "id": "XKyWiZ_Lj7w5"
      },
      "source": [
        "model = CustomTraining(\n",
        "    vocab_size=len(ids_from_chars.get_vocabulary()),\n",
        "    embedding_dim=embedding_dim,\n",
        "    rnn_units=rnn_units)"
      ],
      "execution_count": null,
      "outputs": []
    },
    {
      "cell_type": "code",
      "metadata": {
        "id": "U817KUm7knlm"
      },
      "source": [
        "model.compile(optimizer = tf.keras.optimizers.Adam(),\n",
        "              loss=tf.keras.losses.SparseCategoricalCrossentropy(from_logits=True),metrics=[\"acc\"])"
      ],
      "execution_count": null,
      "outputs": []
    },
    {
      "cell_type": "code",
      "metadata": {
        "id": "o694aoBPnEi9",
        "colab": {
          "base_uri": "https://localhost:8080/"
        },
        "outputId": "d9d91711-fd3b-4968-faa9-0e211a60a707"
      },
      "source": [
        "model.fit(dataset, epochs=2)"
      ],
      "execution_count": null,
      "outputs": [
        {
          "output_type": "stream",
          "text": [
            "Epoch 1/2\n",
            "326/326 [==============================] - 55s 161ms/step - loss: 2.2787\n",
            "Epoch 2/2\n",
            "326/326 [==============================] - 53s 160ms/step - loss: 1.4675\n"
          ],
          "name": "stdout"
        },
        {
          "output_type": "execute_result",
          "data": {
            "text/plain": [
              "<tensorflow.python.keras.callbacks.History at 0x7faa83c1e630>"
            ]
          },
          "metadata": {
            "tags": []
          },
          "execution_count": 164
        }
      ]
    },
    {
      "cell_type": "markdown",
      "metadata": {
        "id": "W8nAtKHVoInR"
      },
      "source": [
        "Or if you need more control, you can write your own complete custom training loop:"
      ]
    },
    {
      "cell_type": "code",
      "metadata": {
        "id": "d4tSNwymzf-q",
        "colab": {
          "base_uri": "https://localhost:8080/"
        },
        "outputId": "b840f22c-7ad9-45f9-86a9-af5fcab9c9d8"
      },
      "source": [
        "EPOCHS = 20\n",
        "\n",
        "mean = tf.metrics.Mean()\n",
        "\n",
        "for epoch in range(EPOCHS):\n",
        "    start = time.time()\n",
        "\n",
        "    mean.reset_states()\n",
        "    for (batch_n, (inp, target)) in enumerate(dataset):\n",
        "        logs = model.train_step([inp, target])\n",
        "        mean.update_state(logs['loss'])\n",
        "\n",
        "        if batch_n % 50 == 0:\n",
        "            template = 'Epoch {} Batch {} Loss {}'\n",
        "            print(template.format(epoch + 1, batch_n, logs['loss']))\n",
        "\n",
        "    # saving (checkpoint) the model every 5 epochs\n",
        "    if (epoch + 1) % 5 == 0:\n",
        "        model.save_weights(checkpoint_prefix.format(epoch=epoch))\n",
        "\n",
        "    print()\n",
        "    print('Epoch {} Loss: {:.4f}'.format(epoch + 1, mean.result().numpy()))\n",
        "    print('Time taken for 1 epoch {} sec'.format(time.time() - start))\n",
        "    print(\"_\"*80)\n",
        "\n",
        "model.save_weights(checkpoint_prefix.format(epoch=epoch))"
      ],
      "execution_count": null,
      "outputs": [
        {
          "output_type": "stream",
          "text": [
            "Epoch 1 Batch 0 Loss 0.8680761456489563\n",
            "Epoch 1 Batch 50 Loss 0.8437008857727051\n",
            "Epoch 1 Batch 100 Loss 0.8540005683898926\n",
            "Epoch 1 Batch 150 Loss 0.8422533273696899\n",
            "Epoch 1 Batch 200 Loss 0.8471494913101196\n",
            "Epoch 1 Batch 250 Loss 0.8511042594909668\n",
            "Epoch 1 Batch 300 Loss 0.8330490589141846\n",
            "\n",
            "Epoch 1 Loss: 0.8456\n",
            "Time taken for 1 epoch 53.2582061290741 sec\n",
            "________________________________________________________________________________\n",
            "Epoch 2 Batch 0 Loss 0.8430423140525818\n",
            "Epoch 2 Batch 50 Loss 0.8546546101570129\n",
            "Epoch 2 Batch 100 Loss 0.8338348269462585\n",
            "Epoch 2 Batch 150 Loss 0.8508053421974182\n",
            "Epoch 2 Batch 200 Loss 0.8371874094009399\n",
            "Epoch 2 Batch 250 Loss 0.8394181728363037\n",
            "Epoch 2 Batch 300 Loss 0.8378104567527771\n",
            "\n",
            "Epoch 2 Loss: 0.8413\n",
            "Time taken for 1 epoch 52.41692805290222 sec\n",
            "________________________________________________________________________________\n",
            "Epoch 3 Batch 0 Loss 0.8579710125923157\n",
            "Epoch 3 Batch 50 Loss 0.832732081413269\n",
            "Epoch 3 Batch 100 Loss 0.8117845058441162\n",
            "Epoch 3 Batch 150 Loss 0.8279914259910583\n",
            "Epoch 3 Batch 200 Loss 0.8664960265159607\n",
            "Epoch 3 Batch 250 Loss 0.8183117508888245\n",
            "Epoch 3 Batch 300 Loss 0.8498250842094421\n",
            "\n",
            "Epoch 3 Loss: 0.8365\n",
            "Time taken for 1 epoch 52.587013959884644 sec\n",
            "________________________________________________________________________________\n",
            "Epoch 4 Batch 0 Loss 0.8509273529052734\n",
            "Epoch 4 Batch 50 Loss 0.8266382813453674\n",
            "Epoch 4 Batch 100 Loss 0.8188880085945129\n",
            "Epoch 4 Batch 150 Loss 0.8282333612442017\n",
            "Epoch 4 Batch 200 Loss 0.828508198261261\n",
            "Epoch 4 Batch 250 Loss 0.8656341433525085\n",
            "Epoch 4 Batch 300 Loss 0.861276388168335\n",
            "\n",
            "Epoch 4 Loss: 0.8329\n",
            "Time taken for 1 epoch 52.630335569381714 sec\n",
            "________________________________________________________________________________\n",
            "Epoch 5 Batch 0 Loss 0.8406959772109985\n",
            "Epoch 5 Batch 50 Loss 0.8253576755523682\n",
            "Epoch 5 Batch 100 Loss 0.8241655826568604\n",
            "Epoch 5 Batch 150 Loss 0.8246833682060242\n",
            "Epoch 5 Batch 200 Loss 0.8284208178520203\n",
            "Epoch 5 Batch 250 Loss 0.8327064514160156\n",
            "Epoch 5 Batch 300 Loss 0.8260353803634644\n",
            "\n",
            "Epoch 5 Loss: 0.8300\n",
            "Time taken for 1 epoch 52.768162965774536 sec\n",
            "________________________________________________________________________________\n",
            "Epoch 6 Batch 0 Loss 0.8460330963134766\n",
            "Epoch 6 Batch 50 Loss 0.8220517039299011\n",
            "Epoch 6 Batch 100 Loss 0.8263332843780518\n",
            "Epoch 6 Batch 150 Loss 0.7986556887626648\n",
            "Epoch 6 Batch 200 Loss 0.8344550132751465\n",
            "Epoch 6 Batch 250 Loss 0.8159562945365906\n",
            "Epoch 6 Batch 300 Loss 0.8407081365585327\n",
            "\n",
            "Epoch 6 Loss: 0.8274\n",
            "Time taken for 1 epoch 52.696104288101196 sec\n",
            "________________________________________________________________________________\n",
            "Epoch 7 Batch 0 Loss 0.8300048112869263\n",
            "Epoch 7 Batch 50 Loss 0.8046863079071045\n",
            "Epoch 7 Batch 100 Loss 0.8132815361022949\n",
            "Epoch 7 Batch 150 Loss 0.82586270570755\n",
            "Epoch 7 Batch 200 Loss 0.8382068872451782\n",
            "Epoch 7 Batch 250 Loss 0.8297973871231079\n",
            "Epoch 7 Batch 300 Loss 0.8201314806938171\n",
            "\n",
            "Epoch 7 Loss: 0.8250\n",
            "Time taken for 1 epoch 52.63534879684448 sec\n",
            "________________________________________________________________________________\n",
            "Epoch 8 Batch 0 Loss 0.8267321586608887\n",
            "Epoch 8 Batch 50 Loss 0.8121939301490784\n",
            "Epoch 8 Batch 100 Loss 0.7947790622711182\n",
            "Epoch 8 Batch 150 Loss 0.7922754883766174\n",
            "Epoch 8 Batch 200 Loss 0.799095630645752\n",
            "Epoch 8 Batch 250 Loss 0.8496083617210388\n",
            "Epoch 8 Batch 300 Loss 0.833198070526123\n",
            "\n",
            "Epoch 8 Loss: 0.8231\n",
            "Time taken for 1 epoch 52.645700454711914 sec\n",
            "________________________________________________________________________________\n",
            "Epoch 9 Batch 0 Loss 0.8518467545509338\n",
            "Epoch 9 Batch 50 Loss 0.7878625988960266\n",
            "Epoch 9 Batch 100 Loss 0.8260948061943054\n",
            "Epoch 9 Batch 150 Loss 0.8136661648750305\n",
            "Epoch 9 Batch 200 Loss 0.8426905870437622\n",
            "Epoch 9 Batch 250 Loss 0.826927125453949\n",
            "Epoch 9 Batch 300 Loss 0.8366478085517883\n",
            "\n",
            "Epoch 9 Loss: 0.8214\n",
            "Time taken for 1 epoch 52.730628967285156 sec\n",
            "________________________________________________________________________________\n",
            "Epoch 10 Batch 0 Loss 0.8259416818618774\n",
            "Epoch 10 Batch 50 Loss 0.8192874193191528\n",
            "Epoch 10 Batch 100 Loss 0.8351665735244751\n",
            "Epoch 10 Batch 150 Loss 0.8017346858978271\n",
            "Epoch 10 Batch 200 Loss 0.8182845115661621\n",
            "Epoch 10 Batch 250 Loss 0.8372549414634705\n",
            "Epoch 10 Batch 300 Loss 0.8315696716308594\n",
            "\n",
            "Epoch 10 Loss: 0.8195\n",
            "Time taken for 1 epoch 52.84536290168762 sec\n",
            "________________________________________________________________________________\n",
            "Epoch 11 Batch 0 Loss 0.8236563205718994\n",
            "Epoch 11 Batch 50 Loss 0.8274229168891907\n",
            "Epoch 11 Batch 100 Loss 0.8066646456718445\n",
            "Epoch 11 Batch 150 Loss 0.7855364084243774\n",
            "Epoch 11 Batch 200 Loss 0.8344886898994446\n",
            "Epoch 11 Batch 250 Loss 0.8165944814682007\n",
            "Epoch 11 Batch 300 Loss 0.8378848433494568\n",
            "\n",
            "Epoch 11 Loss: 0.8185\n",
            "Time taken for 1 epoch 52.65126633644104 sec\n",
            "________________________________________________________________________________\n",
            "Epoch 12 Batch 0 Loss 0.8326623439788818\n",
            "Epoch 12 Batch 50 Loss 0.8230631947517395\n",
            "Epoch 12 Batch 100 Loss 0.8245975971221924\n",
            "Epoch 12 Batch 150 Loss 0.7940151691436768\n",
            "Epoch 12 Batch 200 Loss 0.8217028975486755\n",
            "Epoch 12 Batch 250 Loss 0.8316289782524109\n",
            "Epoch 12 Batch 300 Loss 0.8351443409919739\n",
            "\n",
            "Epoch 12 Loss: 0.8180\n",
            "Time taken for 1 epoch 52.605783462524414 sec\n",
            "________________________________________________________________________________\n",
            "Epoch 13 Batch 0 Loss 0.8198612928390503\n",
            "Epoch 13 Batch 50 Loss 0.8180741667747498\n",
            "Epoch 13 Batch 100 Loss 0.7850576639175415\n",
            "Epoch 13 Batch 150 Loss 0.8149645924568176\n",
            "Epoch 13 Batch 200 Loss 0.8276238441467285\n",
            "Epoch 13 Batch 250 Loss 0.8273429274559021\n",
            "Epoch 13 Batch 300 Loss 0.8060820698738098\n",
            "\n",
            "Epoch 13 Loss: 0.8170\n",
            "Time taken for 1 epoch 52.52330708503723 sec\n",
            "________________________________________________________________________________\n",
            "Epoch 14 Batch 0 Loss 0.8442590832710266\n",
            "Epoch 14 Batch 50 Loss 0.8199484348297119\n",
            "Epoch 14 Batch 100 Loss 0.8246294260025024\n",
            "Epoch 14 Batch 150 Loss 0.8153333067893982\n",
            "Epoch 14 Batch 200 Loss 0.8236936330795288\n",
            "Epoch 14 Batch 250 Loss 0.8155187964439392\n",
            "Epoch 14 Batch 300 Loss 0.8209397792816162\n",
            "\n",
            "Epoch 14 Loss: 0.8169\n",
            "Time taken for 1 epoch 52.58341932296753 sec\n",
            "________________________________________________________________________________\n",
            "Epoch 15 Batch 0 Loss 0.8360098004341125\n",
            "Epoch 15 Batch 50 Loss 0.8051528930664062\n",
            "Epoch 15 Batch 100 Loss 0.8195223212242126\n",
            "Epoch 15 Batch 150 Loss 0.8124678134918213\n",
            "Epoch 15 Batch 200 Loss 0.8126032948493958\n",
            "Epoch 15 Batch 250 Loss 0.8041409850120544\n",
            "Epoch 15 Batch 300 Loss 0.832465648651123\n",
            "\n",
            "Epoch 15 Loss: 0.8176\n",
            "Time taken for 1 epoch 52.38673162460327 sec\n",
            "________________________________________________________________________________\n",
            "Epoch 16 Batch 0 Loss 0.8150724172592163\n",
            "Epoch 16 Batch 50 Loss 0.8086059093475342\n",
            "Epoch 16 Batch 100 Loss 0.7887080311775208\n",
            "Epoch 16 Batch 150 Loss 0.8009417653083801\n",
            "Epoch 16 Batch 200 Loss 0.8559908866882324\n",
            "Epoch 16 Batch 250 Loss 0.8342007994651794\n",
            "Epoch 16 Batch 300 Loss 0.8215246796607971\n",
            "\n",
            "Epoch 16 Loss: 0.8177\n",
            "Time taken for 1 epoch 52.473575830459595 sec\n",
            "________________________________________________________________________________\n",
            "Epoch 17 Batch 0 Loss 0.8313092589378357\n",
            "Epoch 17 Batch 50 Loss 0.828757643699646\n",
            "Epoch 17 Batch 100 Loss 0.8011491298675537\n",
            "Epoch 17 Batch 150 Loss 0.813601553440094\n",
            "Epoch 17 Batch 200 Loss 0.7937134504318237\n",
            "Epoch 17 Batch 250 Loss 0.8087045550346375\n",
            "Epoch 17 Batch 300 Loss 0.8446387648582458\n",
            "\n",
            "Epoch 17 Loss: 0.8171\n",
            "Time taken for 1 epoch 52.495356798172 sec\n",
            "________________________________________________________________________________\n",
            "Epoch 18 Batch 0 Loss 0.8327704071998596\n",
            "Epoch 18 Batch 50 Loss 0.7786217331886292\n",
            "Epoch 18 Batch 100 Loss 0.8084776401519775\n",
            "Epoch 18 Batch 150 Loss 0.8118705749511719\n",
            "Epoch 18 Batch 200 Loss 0.8399337530136108\n",
            "Epoch 18 Batch 250 Loss 0.8016193509101868\n",
            "Epoch 18 Batch 300 Loss 0.8191055059432983\n",
            "\n",
            "Epoch 18 Loss: 0.8177\n",
            "Time taken for 1 epoch 52.51102924346924 sec\n",
            "________________________________________________________________________________\n",
            "Epoch 19 Batch 0 Loss 0.845566987991333\n",
            "Epoch 19 Batch 50 Loss 0.828350305557251\n",
            "Epoch 19 Batch 100 Loss 0.807934582233429\n",
            "Epoch 19 Batch 150 Loss 0.815074622631073\n",
            "Epoch 19 Batch 200 Loss 0.8107244372367859\n",
            "Epoch 19 Batch 250 Loss 0.8368170261383057\n",
            "Epoch 19 Batch 300 Loss 0.8274235725402832\n",
            "\n",
            "Epoch 19 Loss: 0.8186\n",
            "Time taken for 1 epoch 52.508636713027954 sec\n",
            "________________________________________________________________________________\n",
            "Epoch 20 Batch 0 Loss 0.8355535864830017\n",
            "Epoch 20 Batch 50 Loss 0.817922830581665\n",
            "Epoch 20 Batch 100 Loss 0.8084651231765747\n",
            "Epoch 20 Batch 150 Loss 0.8094733357429504\n",
            "Epoch 20 Batch 200 Loss 0.8311149477958679\n",
            "Epoch 20 Batch 250 Loss 0.8208737373352051\n",
            "Epoch 20 Batch 300 Loss 0.8250856995582581\n",
            "\n",
            "Epoch 20 Loss: 0.8195\n",
            "Time taken for 1 epoch 52.563273429870605 sec\n",
            "________________________________________________________________________________\n"
          ],
          "name": "stdout"
        }
      ]
    },
    {
      "cell_type": "code",
      "metadata": {
        "id": "Kb7U_cRB93As"
      },
      "source": [
        "one_step_model_new = OneStep(model, chars_from_ids, ids_from_chars)"
      ],
      "execution_count": null,
      "outputs": []
    },
    {
      "cell_type": "code",
      "metadata": {
        "colab": {
          "base_uri": "https://localhost:8080/"
        },
        "id": "pYXjFFzp9vkj",
        "outputId": "306e3cfe-2c5c-4013-ad38-5abed86acd84"
      },
      "source": [
        "start = time.time()\n",
        "states = None\n",
        "next_char = tf.constant([\"Book\"])\n",
        "result = [next_char]\n",
        "\n",
        "for n in range(1000):\n",
        "  next_char, states = one_step_model_new.generate_one_step(next_char, states=states)\n",
        "  result.append(next_char)\n",
        "\n",
        "result = tf.strings.join(result)\n",
        "end = time.time()\n",
        "\n",
        "print(result, '\\n\\n' + '_'*80)\n",
        "\n",
        "\n",
        "print(f\"\\nRun time: {end - start}\")"
      ],
      "execution_count": null,
      "outputs": [
        {
          "output_type": "stream",
          "text": [
            "tf.Tensor([b\"Bookes; John F. Kennedy\\xe2\\x80\\x99s lesse racists, our nation's history, I said then that their coverage day will shape our obligations with the wealthiest at the victims of your communities and individuals who had come together to action, which I believe deeply in the face of all who wear the same grids of all nations to steep you.  They done sole on Facebook whenever three-years down the road that has known aside where contrarys to those who died in coming together and we can generate further among the Republican senator who are watching where the majority of the American people must care about fierce dependence on foreign government\\xe2\\x80\\x99s spending.  In party, but he wouldn\\xe2\\x80\\x99t see law, is health care -- because he believed it was exceptionally than in South Africa -- a willingness to achieve, an issue heavoncoty doesn\\xe2\\x80\\x99t just award this law and respect elections, and that\\xe2\\x80\\x99s the promise of insurance companies together and go achieved the business will be on time.\\n\\nBut those dream of recent days laws so t\"], shape=(1,), dtype=string) \n",
            "\n",
            "________________________________________________________________________________\n",
            "\n",
            "Run time: 1.9146325588226318\n"
          ],
          "name": "stdout"
        }
      ]
    },
    {
      "cell_type": "code",
      "metadata": {
        "id": "K_2_zayp82ov"
      },
      "source": [
        ""
      ],
      "execution_count": null,
      "outputs": []
    }
  ]
}